{
 "cells": [
  {
   "cell_type": "markdown",
   "metadata": {},
   "source": [
    "<img src=\"https://www.ikiam.edu.ec/img/logo-ikiam-grey.png\" width=300 height=240 />\n",
    "\n",
    "# EXAMEN PARCIAL PYTHON\n",
    "    \n",
    "\n",
    "## GBI6-2021II: BIOINFORMÁTICA\n",
    "\n",
    "**Guarango Veletanga Johanna Estefania** \n",
    "\n",
    "**22-02-2021**"
   ]
  },
  {
   "cell_type": "markdown",
   "metadata": {},
   "source": [
    "<font color='red'>NO AGREGUE NUEVAS CELDAS, UTILICE ÚNICAMENTE LAS QUE ESTÁN CREADAS</font>\n"
   ]
  },
  {
   "cell_type": "markdown",
   "metadata": {},
   "source": [
    "### REQUERIMIENTOS PARA EL EXAMEN\n",
    "Para este examen se requiere dos documentos: \n",
    "\n",
    "1. Archivo ```miningscience.py``` donde tendrá dos funciones:\n",
    "\n",
    "2. Archivo ```2021II_GBI6_ExamenParcialPython``` donde se llamará las funciones y se obtendrá resultados."
   ]
  },
  {
   "cell_type": "markdown",
   "metadata": {},
   "source": [
    "## Ejercicio 1 [2 puntos]\n",
    "Cree el archivo ```miningscience.py``` con las siguientes dosfunciones:\n",
    "    \n",
    "i. ```download_pubmed```: para descargar la data de PubMed utilizando el **ENTREZ** de Biopython. El parámetro de entrada para la función es el ```keyword```. \n",
    "    \n",
    "ii. ```mining_pubs```: esta función debe utilizar el módulo **re** y utilizar el párametro ```tipo``` para realizar lo siguiente:\n",
    "        \n",
    "* Si el tipo es \"DP\" recupera el año de publicación del artículo. El retorno es un *dataframe* con el **PMID** y el **DP_year**.\n",
    "      \n",
    "* Si el tipo es \"AU\" recupera el número de autores por **PMID**. El retorno es un *dataframe* con el **PMID** y el **num_auth**. \n",
    "      \n",
    "* Si el tipo es \"AD\" recupera el conteo de autores por país. El retorno es un *dataframe* con el **country** y el **num_auth**. \n",
    "\n",
    "* *Puede utilizar un ```if``` dentro de la función.* \n",
    "\n",
    "* *Cree un docstring para cada función.* \n",
    "\n",
    "Luego de crear las funciones, cargue el módulo ```miningscience``` como ```msc``` e imprima docstring de cada función.\n",
    "\n",
    "\n"
   ]
  },
  {
   "cell_type": "code",
   "execution_count": 30,
   "metadata": {},
   "outputs": [
    {
     "name": "stdout",
     "output_type": "stream",
     "text": [
      "Help on function download_pubmed in module __main__:\n",
      "\n",
      "download_pubmed(keyword)\n",
      "    Funcion que pide como entrada la frase de busqueda y como output muestra una lista de \n",
      "    id de la busqueda realizada\n",
      "\n",
      "Help on function mining_pubs in module __main__:\n",
      "\n",
      "mining_pubs(tipo)\n",
      "    como entrada pide un codigo \"DP\", \"AU\" y \"AD\" y como salida muestra un data frame con los datos solicitados\n",
      "\n"
     ]
    }
   ],
   "source": [
    "## \n",
    "def download_pubmed (keyword):\n",
    "    \"\"\"\n",
    "    Funcion que pide como entrada la frase de busqueda y como output muestra una lista de \n",
    "    id de la busqueda realizada\n",
    "    \"\"\"\n",
    "    from Bio import Entrez\n",
    "    from Bio import SeqIO\n",
    "    from Bio import GenBank \n",
    "    Entrez.email = 'your.email@example.com'\n",
    "    handle = Entrez.esearch(db='pubmed',\n",
    "                        sort='relevance',\n",
    "                        retmax='1000',\n",
    "                        retmode='xml',\n",
    "                        term=keyword)\n",
    "    results = Entrez.read(handle)\n",
    "    id_list = results[\"IdList\"]\n",
    "    ids = ','.join(id_list)\n",
    "#id_l.append(ids)\n",
    "    Entrez.email = 'your.email@example.com'\n",
    "    handle = Entrez.efetch(db='pubmed',\n",
    "                       retmode='xml',\n",
    "                       id=ids)\n",
    "    id_l = ids.split(\",\")\n",
    "    return (id_l) \n",
    "\n",
    "\n",
    "##mining_pubs \n",
    "import csv \n",
    "import re\n",
    "import pandas as pd \n",
    "from collections import Counter\n",
    "\n",
    "def mining_pubs(tipo):\n",
    "    \"\"\"\n",
    "    como entrada pide un codigo \"DP\", \"AU\" y \"AD\" y como salida muestra un data frame con los datos solicitados\n",
    "    \"\"\"\n",
    "    with open(\"data/pubmed-EcuadorGen-set.txt\", errors=\"ignore\") as f: \n",
    "        texto = f.read() \n",
    "    if tipo == \"DP\":\n",
    "        ## Data frame con el PMID y año de publicación\n",
    "        PMID = re.findall(\"PMID- (\\d*)\", texto) \n",
    "        year = re.findall(\"DP\\s{2}-\\s(\\d{4})\", texto)  \n",
    "        pmid_year = pd.DataFrame()\n",
    "        pmid_year[\"PMID\"] = PMID\n",
    "        pmid_year[\"Año de publicación\"] = year\n",
    "        return print(pmid_year)\n",
    "    ## Data frame con el PMID y año de publicación \n",
    "    elif tipo == \"AU\": \n",
    "        PMID = re.findall(\"PMID- (\\d*)\", texto) \n",
    "        autores = texto.split(\"PMID- \")\n",
    "        autores.pop(0)\n",
    "        num_autores = []\n",
    "        for i in range(len(autores)):\n",
    "            numero = re.findall(\"AU -\", autores[i])\n",
    "            n = (len(numero))\n",
    "            num_autores.append(n)\n",
    "        pmid_autor = pd.DataFrame()\n",
    "        pmid_autor[\"PMID\"] = PMID \n",
    "        pmid_autor[\"Numero de autores\"] = num_autores\n",
    "        return print(pmid_autor)\n",
    "    elif tipo == \"AD\": \n",
    "        texto = re.sub(r\" [A-Z]{1}\\.\",\"\", texto)\n",
    "        texto = re.sub(r\"St\\.\",\"\", texto)\n",
    "        texto = re.sub(r\"Av\\.\",\"\", texto)\n",
    "        texto = re.sub(r\"Vic\\.\",\"\", texto)\n",
    "        texto = re.sub(r\"Tas\\.\",\"\", texto)\n",
    "        texto = re.sub(r\"Md\\.\",\"\", texto)\n",
    "        AD = texto.split(\"AD  - \")\n",
    "        n_paises = []\n",
    "        for i in range(len(AD)): \n",
    "            pais = re.findall(\"\\S, ([A-Za-z]*)\\.\", AD[i])\n",
    "            if not pais == []: ## \n",
    "                if not len(pais) >= 2:  \n",
    "                    if re.findall(\"^[A-Z]\", pais[0]): \n",
    "                        n_paises.append(pais[0])\n",
    "        conteo=Counter(n_paises)\n",
    "        resultado = {}\n",
    "        for clave in conteo:\n",
    "            valor = conteo[clave]\n",
    "            if valor != 1: \n",
    "                resultado[clave] = valor \n",
    "        veces_pais = pd.DataFrame()\n",
    "        veces_pais[\"pais\"] = resultado.keys()\n",
    "        veces_pais[\"numero de autores\"] = resultado.values()\n",
    "        return print(veces_pais)\n",
    "import miningscience as msc \n",
    "\n",
    "help(download_pubmed)\n",
    "help(mining_pubs)\n"
   ]
  },
  {
   "cell_type": "markdown",
   "metadata": {},
   "source": [
    "\n",
    "## Ejercicio 2 [1 punto]\n",
    "\n",
    "\n",
    "Utilice la función ```download_pubmed``` para descargar la data con el keyword ```Ecuador proteomics``` e imprima lo siguiente: \n",
    "\n",
    "```python\n",
    "'El número de artículos es: xx' # xx corresponde al número de artículos recuperados\n",
    "\n",
    "'El PMID del primer artículo es: xxxxxxxx' # xxxxxxxx corresponde al ID del artículo en PUDMED\n",
    "\n",
    "```"
   ]
  },
  {
   "cell_type": "code",
   "execution_count": 31,
   "metadata": {},
   "outputs": [
    {
     "name": "stdout",
     "output_type": "stream",
     "text": [
      "El numero de articulos es: 193\n",
      "El PMID del primer articulo es: 31822297\n"
     ]
    }
   ],
   "source": [
    "# Escriba aquí su código para el ejercicio 2. Para este ejercicio se requirió instalar pip install Bio\n",
    "\n",
    "articulos = download_pubmed(\"Ecuador Genomics\")\n",
    "\n",
    "print (\"El numero de articulos es:\", len(articulos)) \n",
    "\n",
    "print (\"El PMID del primer articulo es:\", articulos[0])"
   ]
  },
  {
   "cell_type": "markdown",
   "metadata": {},
   "source": [
    "## Ejercicio 3 [1 punto]\n",
    "\n",
    "Utilice la función ```mining_pubs``` para crear los siguientes dataframes: \n",
    "\n",
    "* pub_year\n",
    "\n",
    "* pub_authors\n",
    "\n",
    "* coutries\n",
    "\n",
    "Muestre los dos primeros y los dos últimos registros de cada dataframe. "
   ]
  },
  {
   "cell_type": "code",
   "execution_count": 1,
   "metadata": {},
   "outputs": [
    {
     "name": "stdout",
     "output_type": "stream",
     "text": [
      "       PMID Año de publicación\n",
      "0  35113400               2021\n",
      "1  34534714               2021\n",
      "Empty DataFrame\n",
      "Columns: [PMID, Año de publicación]\n",
      "Index: []\n",
      "       PMID  Numero de autores\n",
      "0  35113400                  2\n",
      "1  34534714                 11\n",
      "Empty DataFrame\n",
      "Columns: [PMID, Numero de autores]\n",
      "Index: []\n",
      "      pais  numero de autores\n",
      "0  Ecuador                 14\n",
      "1      USA                  8\n",
      "Empty DataFrame\n",
      "Columns: [pais, numero de autores]\n",
      "Index: []\n",
      "        PMID Año de publicación\n",
      "0   35113400               2021\n",
      "1   34534714               2021\n",
      "2   33652915               2021\n",
      "3   32931955               2020\n",
      "4   32581039               2020\n",
      "5   32462583               2020\n",
      "6   32451213               2020\n",
      "7   32362928               2020\n",
      "8   32247171               2020\n",
      "9   32221920               2020\n",
      "10  31138640               2019\n",
      "11  30056980               2018\n",
      "12  29086402               2018\n",
      "13  28878794               2017\n",
      "14  27704815               2016\n",
      "15  26217358               2015\n",
      "16  26161545               2015\n",
      "17  24498576               2014\n"
     ]
    }
   ],
   "source": [
    "import miningscience as msc\n",
    "pub_year = msc.mining_pubs(\"DP\")\n",
    "print (pub_year.iloc[0:2])\n",
    "print (pub_year.iloc[826:])\n",
    "pub_authors = msc.mining_pubs(\"AU\")\n",
    "print (pub_authors.iloc[0:2])\n",
    "print (pub_authors.iloc[826:])\n",
    "countries = msc.mining_pubs(\"AD\")\n",
    "print (countries.iloc[0:2])\n",
    "print (countries.iloc[112:])\n",
    "print(pub_year)"
   ]
  },
  {
   "cell_type": "markdown",
   "metadata": {
    "jp-MarkdownHeadingCollapsed": true,
    "tags": []
   },
   "source": [
    "## Ejercicio 4 [2 puntos]\n",
    "\n",
    "Realice la visualización de los datos del ejercicio 3. \n",
    "\n",
    "* ```pubyear```: utilizando el conteo artículos por año, calcule la media y la desviación estandar (asumiendo que la distribución es normal). Realice un gráfico de la distribución normal de sus datos. Coloque el título, leyenda de los ejes \"x\" e \"y\", y la leyenda de la curva (utilice las expresiones matemáticas tipos latex de ser necesario). \n",
    "\n",
    "* ```pub_authors```: realice un boxplot del conteo de autores por artículo. Coloque las leyendas adecuadas para cada eje y el título.  \n",
    "\n",
    "* ```countries```: realice una nube de puntos (adaptación de su tarea), resalte al menos 3 países con flechas. Coloque las leyendas adecuadas para cada eje y el título. \n"
   ]
  },
  {
   "cell_type": "code",
   "execution_count": 2,
   "metadata": {},
   "outputs": [
    {
     "name": "stdout",
     "output_type": "stream",
     "text": [
      "La media es:  2018.611111111111\n",
      "La desviación estandar es:  2.2787738934603277\n"
     ]
    },
    {
     "data": {
      "text/plain": [
       "Text(0, 0.5, 'Frecuencia')"
      ]
     },
     "execution_count": 2,
     "metadata": {},
     "output_type": "execute_result"
    },
    {
     "data": {
      "image/png": "[encoded data removed]",
      "text/plain": [
       "<Figure size 432x288 with 1 Axes>"
      ]
     },
     "metadata": {
      "needs_background": "light"
     },
     "output_type": "display_data"
    }
   ],
   "source": [
    "#Cálculo de la media y desviación estándar\n",
    "import pandas as pd \n",
    "import matplotlib.pyplot as plot\n",
    "from collections import Counter\n",
    "pub_year[\"Año de publicación\"] = pub_year[\"Año de publicación\"].astype(\"int\")\n",
    "mean_py = pub_year[\"Año de publicación\"].mean()\n",
    "sd_py = pub_year[\"Año de publicación\"].std()\n",
    "print (\"La media es: \", mean_py)\n",
    "print (\"La desviación estandar es: \", sd_py)\n",
    "#print (pub_year[\"Año de publicación\"])\n",
    "intervalos = range(min(pub_year[\"Año de publicación\"]), max(pub_year[\"Año de publicación\"]))\n",
    "plot.hist(x=pub_year[\"Año de publicación\"])\n",
    "plot.title(\"Numero de articulos por año\")\n",
    "plot.xlabel(\"Año\")\n",
    "plot.ylabel(\"Frecuencia\")\n"
   ]
  },
  {
   "cell_type": "code",
   "execution_count": 3,
   "metadata": {},
   "outputs": [
    {
     "data": {
      "text/plain": [
       "Text(0, 0.5, 'Frecuencia')"
      ]
     },
     "execution_count": 3,
     "metadata": {},
     "output_type": "execute_result"
    },
    {
     "data": {
      "image/png": "[encoded data removed]",
      "text/plain": [
       "<Figure size 432x288 with 1 Axes>"
      ]
     },
     "metadata": {
      "needs_background": "light"
     },
     "output_type": "display_data"
    }
   ],
   "source": [
    "#Boxplot\n",
    "pub_authors \n",
    "boxplot = pub_authors.boxplot(column=[\"Numero de autores\"])\n",
    "plot.title(\"Conteo de autores por articulos\")\n",
    "plot.ylabel(\"Frecuencia\")"
   ]
  },
  {
   "cell_type": "code",
   "execution_count": 7,
   "metadata": {},
   "outputs": [
    {
     "data": {
      "image/png": "[encoded data removed]",
      "text/plain": [
       "<Figure size 864x576 with 2 Axes>"
      ]
     },
     "metadata": {
      "needs_background": "light"
     },
     "output_type": "display_data"
    }
   ],
   "source": [
    "#Nube de puntos\n",
    "countries = countries.sort_values(\"numero de autores\")\n",
    "max_pais = (countries[104:])\n",
    "\n",
    "countries_lat = [39.399872, 4.570868, 41.87194, 46.227638, 51.165691, 55.378051, \n",
    "                40.463667, -14.235004, 37.09024, -1.831239  ] \n",
    "                 \n",
    "countries_long = [-8.224454, -74.297333, 12.56738, 2.213749, 10.451526, -3.435973,  \n",
    "                 -3.74922, -51.92528, -95.712891, -78.183406]\n",
    "repeticiones = [143, 173, 177, 221, 253, 316, 499, 501, 784, 1206]\n",
    "\n",
    "import matplotlib.pyplot as plt\n",
    "%matplotlib inline\n",
    "\n",
    "plt.scatter(countries_lat, countries_long, repeticiones) \n",
    "plot.colorbar()\n",
    "ard = dict(arrowstyle=\"->\")\n",
    "plot.annotate(\"Ecuador\", xy = (-1.831239, -78.183406 ), \n",
    "             xytext = (10,0), arrowprops = ard) \n",
    "plot.annotate(\"USA\", xy= (37.09024, -95.712891), \n",
    "            xytext = (40, -20), arrowprops = ard)\n",
    "plot.annotate(\"Brazil\", xy= (-14.235004, -51.92528), \n",
    "            xytext = (-10, -20), arrowprops = ard)\n",
    "params = plt.gcf()\n",
    "plSize = params.get_size_inches()\n",
    "params.set_size_inches( (plSize[0] * 2, plSize[1] * 2) )\n",
    "plt.show()"
   ]
  },
  {
   "cell_type": "markdown",
   "metadata": {},
   "source": [
    "## Ejercicio 5 [1 punto]\n",
    "\n",
    "Interprete los resultados del **ejercicio 4**"
   ]
  },
  {
   "cell_type": "markdown",
   "metadata": {},
   "source": [
    "* En el diagrama de barras se observa que en el año 2020 se han pubicado más artículos en comparación con otros.\n",
    "* En el boxplot se puede observar que la mediana corta la caja en dos lados desiguales por lo que se tiene una asimetría negativa o sesgada a la izquierda debido a que la parte más larga es la inferior con respecto a la mediana. También se puede observar que el valor de la mediana es de aproximadamente 9 y que el gráfico presenta un valor atípico.\n",
    "* En la nube de puntos se visualiza la cantidad de autores ubicados por país de procedencia. "
   ]
  },
  {
   "cell_type": "markdown",
   "metadata": {},
   "source": [
    "## Ejercicio 6 [2 puntos]\n",
    "\n",
    "Para algún gen de interés, realice lo siguiente: \n",
    "\n",
    "1. Una búsqueda en la página del [NCBI nucleotide](https://www.ncbi.nlm.nih.gov/nucleotide/).\n",
    "\n",
    "2. Descargue el ```Accession List``` de su búsqueda.\n",
    "\n",
    "3. Cargue el ```Accession List``` en este notebook y haga una descarga de la data tipo ```genbank``` utilizando los diez primeros IDs de accesión. \n",
    "\n",
    "4. Arme un árbol filogenético para los resultados del paso 3.\n",
    "\n",
    "5. Interprete el árbol del paso 4. "
   ]
  },
  {
   "cell_type": "code",
   "execution_count": 8,
   "metadata": {},
   "outputs": [
    {
     "name": "stdout",
     "output_type": "stream",
     "text": [
      "   ______________ MW834598.1\n",
      " ,|\n",
      " ||  _________________ MW834594.1\n",
      " ||_|\n",
      " |  |         ________________________________ BI977687.1\n",
      " |  |________|\n",
      " |           |____________________________________________________ CL569187.1\n",
      " |\n",
      "_| _______________ MW834597.1\n",
      " ||\n",
      " ||  _____________ MW834596.1\n",
      " ||_|\n",
      " |  |__________ MW834595.1\n",
      " |\n",
      " |      _________ MW834601.1\n",
      " |  ___|\n",
      " |_|   |_____________ MW834600.1\n",
      "   |\n",
      "   |___________ MW834599.1\n",
      "\n"
     ]
    }
   ],
   "source": [
    "from Bio import Phylo\n",
    "from Bio import SeqIO\n",
    "from Bio import AlignIO\n",
    "from Bio.Phylo.TreeConstruction import DistanceCalculator\n",
    "from Bio.Phylo.TreeConstruction import DistanceTreeConstructor\n",
    "with open(\"alignment.txt\", \"r\") as f: \n",
    "    alignment = AlignIO.read(f, \"clustal\")\n",
    "    #print(type(alignment))\n",
    "calculator = DistanceCalculator(\"identity\")\n",
    "distance_matriz = calculator.get_distance(alignment)\n",
    "#print(distance_matriz)\n",
    "constructor = DistanceTreeConstructor(calculator)\n",
    "tree = constructor.build_tree(alignment)\n",
    "tree.rooted = True \n",
    "Phylo.draw_ascii(tree)\n",
    "#print (handle.read())"
   ]
  },
  {
   "cell_type": "markdown",
   "metadata": {},
   "source": [
    "**Escriba aquí la interpretación del árbol**\n",
    "Se puede observar que la parte superior del árbol filogenético (la que contiene a MW834598.1, MW834594.1, BI977687.1 y CL569187.1) posee 3 puntos de ramificación, los cuales representan un evento de divergencia o separación de un grupo en dos grupos descendientes, a diferencia de los otros que solamente tienen 2. Esto demuestra que BI977687.1 y CL569187.1 poseen un ancestro común más reciente en comparación con otros."
   ]
  },
  {
   "cell_type": "markdown",
   "metadata": {},
   "source": [
    "## Ejercicio 7 [1 punto]\n",
    "\n",
    "\n",
    "1. Cree en GitHub un repositorio de nombre ```GBI6_ExamenPython```. \n",
    "2. Cree un archivo ```Readme.md``` que debe tener lo siguiente: \n",
    "- Datos personales\n",
    "- Características del computador\n",
    "- Versión de Python/Anaconda y de cada uno de los módulos/paquetes y utilizados\n",
    "- Explicación de la data utilizada\n",
    "\n",
    "3. Cree un directorio de nombre ```data``` donde deben estar guardado la data utilizada \n",
    "4. Realice al menos 1 control de la versión (commits) por cada ejercicio (del 1 al 6), con un mensaje que inicie como: \n",
    "\n",
    "```sh \n",
    "Carlitos Alimaña ha realizado .....  \n",
    "```"
   ]
  },
  {
   "cell_type": "code",
   "execution_count": null,
   "metadata": {},
   "outputs": [],
   "source": []
  }
 ],
 "metadata": {
  "kernelspec": {
   "display_name": "Python 3",
   "language": "python",
   "name": "python3"
  },
  "language_info": {
   "codemirror_mode": {
    "name": "ipython",
    "version": 3
   },
   "file_extension": ".py",
   "mimetype": "text/x-python",
   "name": "python",
   "nbconvert_exporter": "python",
   "pygments_lexer": "ipython3",
   "version": "3.8.8"
  },
  "latex_envs": {
   "LaTeX_envs_menu_present": true,
   "autoclose": false,
   "autocomplete": true,
   "bibliofile": "biblio.bib",
   "cite_by": "apalike",
   "current_citInitial": 1,
   "eqLabelWithNumbers": true,
   "eqNumInitial": 1,
   "hotkeys": {
    "equation": "Ctrl-E",
    "itemize": "Ctrl-I"
   },
   "labels_anchors": false,
   "latex_user_defs": false,
   "report_style_numbering": false,
   "user_envs_cfg": false
  },
  "toc": {
   "base_numbering": 1,
   "nav_menu": {},
   "number_sections": true,
   "sideBar": false,
   "skip_h1_title": false,
   "title_cell": "Table of Contents",
   "title_sidebar": "Contents",
   "toc_cell": false,
   "toc_position": {
    "height": "1152.67px",
    "left": "41px",
    "top": "110px",
    "width": "253.458px"
   },
   "toc_section_display": true,
   "toc_window_display": false
  },
  "varInspector": {
   "cols": {
    "lenName": 16,
    "lenType": 16,
    "lenVar": 40
   },
   "kernels_config": {
    "python": {
     "delete_cmd_postfix": "",
     "delete_cmd_prefix": "del ",
     "library": "var_list.py",
     "varRefreshCmd": "print(var_dic_list())"
    },
    "r": {
     "delete_cmd_postfix": ") ",
     "delete_cmd_prefix": "rm(",
     "library": "var_list.r",
     "varRefreshCmd": "cat(var_dic_list()) "
    }
   },
   "types_to_exclude": [
    "module",
    "function",
    "builtin_function_or_method",
    "instance",
    "_Feature"
   ],
   "window_display": false
  }
 },
 "nbformat": 4,
 "nbformat_minor": 4
}
